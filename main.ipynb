{
 "cells": [
  {
   "cell_type": "code",
   "execution_count": 4,
   "metadata": {},
   "outputs": [],
   "source": [
    "from selenium import webdriver\n",
    "from selenium.webdriver.chrome.service import Service\n",
    "from selenium.webdriver.common.by import By\n",
    "from webdriver_manager.chrome import ChromeDriverManager\n",
    "from dotenv import dotenv_values\n",
    "\n",
    "service = Service(ChromeDriverManager().install())\n",
    "driver = webdriver.Chrome(service=service)\n",
    "\n",
    "config = dotenv_values('.env')"
   ]
  },
  {
   "cell_type": "code",
   "execution_count": 5,
   "metadata": {},
   "outputs": [],
   "source": [
    "driver.get('https://www.kabum.com.br/ofertas/BLACKFRIDAY?pagina=1&desconto_minimo=80&desconto_maximo=100')"
   ]
  },
  {
   "cell_type": "code",
   "execution_count": 30,
   "metadata": {},
   "outputs": [
    {
     "name": "stdout",
     "output_type": "stream",
     "text": [
      "Chat Link Cable Elgato para Xbox One e PS4 - 2GC309904002 R$ 4,70 R$ 28,22 80% https://www.kabum.com.br/produto/99891/chat-link-cable-elgato-para-xbox-one-e-ps4-2gc309904002 \n",
      "\n",
      "Set Cards Seleção Brasileira Panini - 004695DECK60BR R$ 29,99 R$ 156,99 80% https://www.kabum.com.br/produto/395034/set-cards-selecao-brasileira-panini-004695deck60br \n",
      "\n"
     ]
    }
   ],
   "source": [
    "nameCards = driver.find_elements(By.CLASS_NAME, 'nameCard')\n",
    "priceCard = driver.find_elements(By.CLASS_NAME, 'priceCard')\n",
    "oldPriceCards = driver.find_elements(By.CLASS_NAME, 'oldPriceCard')\n",
    "discountTagCards = driver.find_elements(By.CLASS_NAME, 'discountTagCard')\n",
    "productLinks = driver.find_elements(By.CLASS_NAME, 'productLink')\n",
    "\n",
    "for i in range(len(nameCards)):\n",
    "    print(nameCards[i].text, priceCard[i].text, oldPriceCards[i].text, discountTagCards[i].text, productLinks[i].get_attribute('href'), '\\n')"
   ]
  }
 ],
 "metadata": {
  "kernelspec": {
   "display_name": "secret-1F0VsFtz-py3.11",
   "language": "python",
   "name": "python3"
  },
  "language_info": {
   "codemirror_mode": {
    "name": "ipython",
    "version": 3
   },
   "file_extension": ".py",
   "mimetype": "text/x-python",
   "name": "python",
   "nbconvert_exporter": "python",
   "pygments_lexer": "ipython3",
   "version": "3.11.1"
  }
 },
 "nbformat": 4,
 "nbformat_minor": 2
}
