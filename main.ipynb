{
 "cells": [
  {
   "cell_type": "code",
   "execution_count": 1,
   "metadata": {},
   "outputs": [],
   "source": [
    "import pandas as pd\n",
    "from selenium import webdriver\n",
    "from selenium.webdriver.chrome.service import Service\n",
    "from selenium.webdriver.common.by import By\n",
    "from webdriver_manager.chrome import ChromeDriverManager\n",
    "from dotenv import dotenv_values\n",
    "\n",
    "service = Service(ChromeDriverManager().install())\n",
    "driver = webdriver.Chrome(service=service)\n",
    "\n",
    "config = dotenv_values('.env')"
   ]
  },
  {
   "cell_type": "code",
   "execution_count": 2,
   "metadata": {},
   "outputs": [],
   "source": [
    "driver.get('https://www.kabum.com.br/ofertas/BLACKFRIDAY?pagina=1&desconto_minimo=80&desconto_maximo=100')"
   ]
  },
  {
   "cell_type": "code",
   "execution_count": 5,
   "metadata": {},
   "outputs": [],
   "source": [
    "nameCards = driver.find_elements(By.CLASS_NAME, 'nameCard')\n",
    "priceCard = driver.find_elements(By.CLASS_NAME, 'priceCard')\n",
    "oldPriceCards = driver.find_elements(By.CLASS_NAME, 'oldPriceCard')\n",
    "discountTagCards = driver.find_elements(By.CLASS_NAME, 'discountTagCard')\n",
    "productLinks = driver.find_elements(By.CLASS_NAME, 'productLink')"
   ]
  },
  {
   "cell_type": "code",
   "execution_count": 7,
   "metadata": {},
   "outputs": [
    {
     "name": "stdout",
     "output_type": "stream",
     "text": [
      "Os dados foram salvos em produtos.csv\n"
     ]
    }
   ],
   "source": [
    "data = []\n",
    "\n",
    "for i in range(len(nameCards)):\n",
    "    row = {\n",
    "        'Nome': nameCards[i].text,\n",
    "        'Preço': priceCard[i].text,\n",
    "        'Preço Antigo': oldPriceCards[i].text,\n",
    "        'Desconto': discountTagCards[i].text,\n",
    "        'Link do Produto': productLinks[i].get_attribute('href')\n",
    "    }\n",
    "    data.append(row)\n",
    "\n",
    "df = pd.DataFrame(data)\n",
    "\n",
    "csv_file_path = 'produtos.csv'\n",
    "df.to_csv(csv_file_path, index=False, encoding='utf-8')\n",
    "\n",
    "print(f'Os dados foram salvos em {csv_file_path}')\n"
   ]
  }
 ],
 "metadata": {
  "kernelspec": {
   "display_name": "secret-1F0VsFtz-py3.11",
   "language": "python",
   "name": "python3"
  },
  "language_info": {
   "codemirror_mode": {
    "name": "ipython",
    "version": 3
   },
   "file_extension": ".py",
   "mimetype": "text/x-python",
   "name": "python",
   "nbconvert_exporter": "python",
   "pygments_lexer": "ipython3",
   "version": "3.11.1"
  }
 },
 "nbformat": 4,
 "nbformat_minor": 2
}
